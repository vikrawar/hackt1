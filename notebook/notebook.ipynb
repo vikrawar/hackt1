{
 "cells": [
  {
   "cell_type": "code",
   "execution_count": 1,
   "id": "3c3063f6-5e77-45b8-b650-1b02e8cd9ed8",
   "metadata": {},
   "outputs": [],
   "source": [
    "import pandas as pd\n",
    "from rdflib import Graph, URIRef, Literal"
   ]
  },
  {
   "cell_type": "code",
   "execution_count": 2,
   "id": "06f2a0b1-f0d0-4ee5-887f-a4203402921a",
   "metadata": {},
   "outputs": [],
   "source": [
    "df = pd.read_csv(\"data.csv\")"
   ]
  },
  {
   "cell_type": "code",
   "execution_count": 5,
   "id": "6e68ccca-35dd-4f66-94e0-10445c69a42e",
   "metadata": {},
   "outputs": [],
   "source": [
    "graph = Graph()\n",
    "\n",
    "for _, row in df.iterrows():\n",
    "    subject = URIRef(row['s'])\n",
    "    predicate = URIRef(row['p'])\n",
    "    obj = URIRef(row['o']) if row['o'].startswith('http') else Literal(row['o'])\n",
    "    graph.add((subject, predicate, obj))"
   ]
  },
  {
   "cell_type": "code",
   "execution_count": 28,
   "id": "e507ad01-cce6-4e15-b6d3-ecd5752d21d8",
   "metadata": {},
   "outputs": [
    {
     "data": {
      "text/plain": [
       "'https://gryps.io/KnowledgeGraph.owl#Individual/JobFiling/DOB_BIS/10283759311036156 https://gryps.io/KnowledgeGraph.owl#DataProperty/hasInferredSourceLink http://a810-bisweb.nyc.gov/bisweb/JobsQueryByNumberServlet?requestid=26&passjobnumber=102837593&passdocnumber=01'"
      ]
     },
     "execution_count": 28,
     "metadata": {},
     "output_type": "execute_result"
    }
   ],
   "source": [
    "rdf_text = []\n",
    "for s, p, o in graph:\n",
    "    rdf_text.append(f\"{s} {p} {o}\")\n",
    "\n",
    "rdf_text[6]"
   ]
  },
  {
   "cell_type": "code",
   "execution_count": null,
   "id": "d95ddd62-72cd-463f-a859-676a8105c62b",
   "metadata": {},
   "outputs": [],
   "source": []
  }
 ],
 "metadata": {
  "kernelspec": {
   "display_name": "Python 3 (ipykernel)",
   "language": "python",
   "name": "python3"
  },
  "language_info": {
   "codemirror_mode": {
    "name": "ipython",
    "version": 3
   },
   "file_extension": ".py",
   "mimetype": "text/x-python",
   "name": "python",
   "nbconvert_exporter": "python",
   "pygments_lexer": "ipython3",
   "version": "3.13.1"
  }
 },
 "nbformat": 4,
 "nbformat_minor": 5
}
