{
 "cells": [
  {
   "cell_type": "code",
   "execution_count": 1,
   "id": "df2c9f97-8e27-454c-9977-4b7d15033b0f",
   "metadata": {},
   "outputs": [
    {
     "name": "stderr",
     "output_type": "stream",
     "text": [
      "/Users/vikas/miniforge3/lib/python3.10/site-packages/torchvision/io/image.py:13: UserWarning: Failed to load image Python extension: 'dlopen(/Users/vikas/miniforge3/lib/python3.10/site-packages/torchvision/image.so, 0x0006): Symbol not found: __ZN3c1017RegisterOperatorsD1Ev\n",
      "  Referenced from: <5AA8DD3D-A2CC-31CA-8060-88B4E9C18B09> /Users/vikas/miniforge3/lib/python3.10/site-packages/torchvision/image.so\n",
      "  Expected in:     <8B7B82B6-E557-3363-B7AC-84C29F398EBA> /Users/vikas/miniforge3/lib/python3.10/site-packages/torch/lib/libtorch_cpu.dylib'If you don't plan on using image functionality from `torchvision.io`, you can ignore this warning. Otherwise, there might be something wrong with your environment. Did you have `libjpeg` or `libpng` installed before building `torchvision` from source?\n",
      "  warn(\n",
      "/Users/vikas/miniforge3/lib/python3.10/site-packages/torchvision/datapoints/__init__.py:12: UserWarning: The torchvision.datapoints and torchvision.transforms.v2 namespaces are still Beta. While we do not expect major breaking changes, some APIs may still change according to user feedback. Please submit any feedback you may have in this issue: https://github.com/pytorch/vision/issues/6753, and you can also check out https://github.com/pytorch/vision/issues/7319 to learn more about the APIs that we suspect might involve future changes. You can silence this warning by calling torchvision.disable_beta_transforms_warning().\n",
      "  warnings.warn(_BETA_TRANSFORMS_WARNING)\n",
      "/Users/vikas/miniforge3/lib/python3.10/site-packages/torchvision/transforms/v2/__init__.py:54: UserWarning: The torchvision.datapoints and torchvision.transforms.v2 namespaces are still Beta. While we do not expect major breaking changes, some APIs may still change according to user feedback. Please submit any feedback you may have in this issue: https://github.com/pytorch/vision/issues/6753, and you can also check out https://github.com/pytorch/vision/issues/7319 to learn more about the APIs that we suspect might involve future changes. You can silence this warning by calling torchvision.disable_beta_transforms_warning().\n",
      "  warnings.warn(_BETA_TRANSFORMS_WARNING)\n"
     ]
    }
   ],
   "source": [
    "import faiss\n",
    "import numpy as np\n",
    "from sentence_transformers import SentenceTransformer"
   ]
  },
  {
   "cell_type": "code",
   "execution_count": 12,
   "id": "f592b59f-aafe-4486-affb-9c1ebb0efaba",
   "metadata": {},
   "outputs": [],
   "source": [
    "# List of 200 long strings\n",
    "strings = [\"Vikas studies Data Science\", \"Sam is a full stack developer\", \"Mateo is data analyst\", \"Hackathons are cool\"]\n",
    "\n",
    "# Initialize the model\n",
    "model = SentenceTransformer('all-MiniLM-L6-v2')\n",
    "\n",
    "# Convert the strings to embeddings\n",
    "embeddings = model.encode(strings)\n",
    "\n",
    "# Convert embeddings to float32 (FAISS requirement)\n",
    "embeddings = np.array(embeddings).astype('float32')\n",
    "\n",
    "# Create a FAISS index\n",
    "index = faiss.IndexFlatL2(embeddings.shape[1])  # L2 distance\n",
    "index.add(embeddings)"
   ]
  },
  {
   "cell_type": "code",
   "execution_count": 15,
   "id": "f1b536a8-a61f-4c6b-8bec-0a3c7f930939",
   "metadata": {},
   "outputs": [
    {
     "name": "stdout",
     "output_type": "stream",
     "text": [
      "Match 1: Mateo is data analyst with distance 0.7298677563667297\n",
      "Match 2: Vikas studies Data Science with distance 1.067330241203308\n"
     ]
    }
   ],
   "source": [
    "# Perform similarity search (e.g., find the top 5 closest matches)\n",
    "query = \"who studies data science\"\n",
    "query_embedding = model.encode([query]).astype('float32')\n",
    "\n",
    "# Search the index\n",
    "D, I = index.search(query_embedding, 2)  # Top 5 results\n",
    "\n",
    "for i in range():\n",
    "    print(f\"Match {i+1}: {strings[I[0][i]]} with distance {D[0][i]}\")"
   ]
  },
  {
   "cell_type": "code",
   "execution_count": 14,
   "id": "509fe7ff-011e-4f76-9182-15d4f23cc4d3",
   "metadata": {},
   "outputs": [
    {
     "name": "stdout",
     "output_type": "stream",
     "text": [
      "Mateo is data analyst\n"
     ]
    }
   ],
   "source": [
    "for i in range(1):\n",
    "    print(f\"Match {i+1}: {strings[I[0][i]]} with distance {D[0][i]}\")"
   ]
  },
  {
   "cell_type": "code",
   "execution_count": null,
   "id": "e47ec447-63fb-4ee1-af23-760e79611990",
   "metadata": {},
   "outputs": [],
   "source": []
  }
 ],
 "metadata": {
  "kernelspec": {
   "display_name": "Python 3 (ipykernel)",
   "language": "python",
   "name": "python3"
  },
  "language_info": {
   "codemirror_mode": {
    "name": "ipython",
    "version": 3
   },
   "file_extension": ".py",
   "mimetype": "text/x-python",
   "name": "python",
   "nbconvert_exporter": "python",
   "pygments_lexer": "ipython3",
   "version": "3.10.14"
  }
 },
 "nbformat": 4,
 "nbformat_minor": 5
}
