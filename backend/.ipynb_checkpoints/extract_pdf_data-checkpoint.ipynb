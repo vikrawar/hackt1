{
 "cells": [
  {
   "cell_type": "code",
   "execution_count": 1,
   "id": "a6482aef-542e-477d-b8db-d8f6c074f0fe",
   "metadata": {},
   "outputs": [],
   "source": [
    "from openai import OpenAI\n",
    "\n",
    "client = OpenAI(api_key=OPENAI_API_KEY)"
   ]
  },
  {
   "cell_type": "code",
   "execution_count": 2,
   "id": "466f695a-0443-4092-b9f3-5fb885b7c68e",
   "metadata": {},
   "outputs": [],
   "source": [
    "from pdf2image import convert_from_path\n",
    "\n",
    "pages = convert_from_path('M102172934T3 (1).PDF', 300)  # 300 DPI for better quality\n",
    "for i, page in enumerate(pages):\n",
    "    page.save(f'output_{i+1}.jpg', 'JPEG')"
   ]
  },
  {
   "cell_type": "code",
   "execution_count": 3,
   "id": "e62dacb9-0304-4e7d-8b47-4b355dc01b54",
   "metadata": {},
   "outputs": [],
   "source": [
    "import base64\n",
    "def encode_image(image_path):\n",
    "    with open(image_path, \"rb\") as image_file:\n",
    "        return base64.b64encode(image_file.read()).decode(\"utf-8\")"
   ]
  },
  {
   "cell_type": "code",
   "execution_count": 4,
   "id": "136e73c2-8ce3-41b7-8727-977a19dfdf90",
   "metadata": {},
   "outputs": [],
   "source": [
    "# Path to your image\n",
    "image_path1 = \"output_1.jpg\"\n",
    "image_path2 = \"output_1.jpg\"\n",
    "\n",
    "# Getting the Base64 string\n",
    "base64_image1 = encode_image(image_path1)\n",
    "base64_image2 = encode_image(image_path2)"
   ]
  },
  {
   "cell_type": "code",
   "execution_count": 5,
   "id": "92c7edd8-db38-4be8-b74c-97bae85d5083",
   "metadata": {},
   "outputs": [],
   "source": [
    "response = client.chat.completions.create(\n",
    "    model=\"gpt-4o-mini\",\n",
    "    messages=[\n",
    "        {\n",
    "            \"role\": \"user\",\n",
    "            \"content\": [\n",
    "                {\"type\": \"text\", \"text\": \"Can you extract all information possible from this image? If your are undecided about a situation, just extract it.\"},\n",
    "                {\n",
    "                    \"type\": \"image_url\",\n",
    "                    \"image_url\": {\n",
    "                        \"url\": f\"data:image/jpeg;base64,{base64_image1}\",\n",
    "                    },\n",
    "                },\n",
    "            ],\n",
    "        }\n",
    "    ],\n",
    "    max_tokens=300,\n",
    ")\n",
    "\n",
    "#print(response.choices[0])"
   ]
  },
  {
   "cell_type": "code",
   "execution_count": 6,
   "id": "f124206e-182f-4962-ac72-7392e98e3fe0",
   "metadata": {},
   "outputs": [],
   "source": [
    "out = response.choices[0].message.content"
   ]
  },
  {
   "cell_type": "code",
   "execution_count": 7,
   "id": "4442e9e4-188e-4e01-9b25-65bd7f95f51e",
   "metadata": {},
   "outputs": [
    {
     "name": "stdout",
     "output_type": "stream",
     "text": [
      "Here is the extracted information from the image:\n",
      "\n",
      "### Certificate of Occupancy\n",
      "- **Job Number:** ALT: 102172934\n",
      "- **Borough:** Manhattan\n",
      "- **Date:** September 9, 2003\n",
      "- **Original Certificate Number:** 102172934-T\n",
      "- **Zoning District:** C6-6\n",
      "- **Address:** 881 Seventh Avenue\n",
      "- **Block:** 1009\n",
      "- **Lot:** 1\n",
      "\n",
      "### Permissible Use and Occupancy\n",
      "- **Story:** \n",
      "  - **Sub-Cellar**\n",
      "    - **Live Load:** O.G.\n",
      "    - **Maximum No. of Persons Permitted:** 635\n",
      "    - **Zoning Use Group:** 8\n",
      "    - **Building Code:** F-1B/F-4\n",
      "    - **Description of Use:** Concert Hall/Banquet Hall, Elev. Mach. Room, Mech. Rooms, Storage Room, Dressing Room\n",
      "\n",
      "  - **Cellar**\n",
      "    - **Live Load:** 85\n",
      "    - **Maximum No. of Persons Permitted:** \n",
      "      - 10\n",
      "      - 21\n",
      "      - 175\n",
      "    - **Zoning Use Group:** F-1B\n",
      "    - **Description of Use:** Mechanical Rooms, Office, Dressing Rooms, Elev. Mach. Room, Storage Rooms, Balcony\n",
      "\n",
      "### Additional Information\n",
      "- **Certificate Status:** Temporary Certificate of Occupancy\n",
      "- **Terms:** Ninety (90) days\n"
     ]
    }
   ],
   "source": [
    "print(out)"
   ]
  },
  {
   "cell_type": "code",
   "execution_count": 8,
   "id": "a5568568-06ef-444d-9545-10892ea125d9",
   "metadata": {},
   "outputs": [],
   "source": [
    "filename = \"output2.txt\"\n",
    "\n",
    "with open(filename, 'a') as file:\n",
    "    file.write('\\n' + out)\n"
   ]
  },
  {
   "cell_type": "code",
   "execution_count": null,
   "id": "b8d75f8d-f05a-47be-af73-d497a89b1303",
   "metadata": {},
   "outputs": [],
   "source": []
  }
 ],
 "metadata": {
  "kernelspec": {
   "display_name": "Python 3 (ipykernel)",
   "language": "python",
   "name": "python3"
  },
  "language_info": {
   "codemirror_mode": {
    "name": "ipython",
    "version": 3
   },
   "file_extension": ".py",
   "mimetype": "text/x-python",
   "name": "python",
   "nbconvert_exporter": "python",
   "pygments_lexer": "ipython3",
   "version": "3.10.14"
  }
 },
 "nbformat": 4,
 "nbformat_minor": 5
}
