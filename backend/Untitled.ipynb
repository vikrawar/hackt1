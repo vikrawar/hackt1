{
 "cells": [
  {
   "cell_type": "code",
   "execution_count": 4,
   "id": "2f7e2199-a9a5-4c0c-9bce-84fe8d15772b",
   "metadata": {},
   "outputs": [],
   "source": [
    "from dotenv import load_dotenv\n",
    "import os\n",
    "from openai import OpenAI\n",
    "\n",
    "load_dotenv()\n",
    "openai.api_key = os.getenv('OPENAI_API_KEY')"
   ]
  },
  {
   "cell_type": "code",
   "execution_count": 9,
   "id": "67c0c033-54c7-4c57-a228-0ad443102f42",
   "metadata": {},
   "outputs": [],
   "source": [
    "with open('sample.csv', 'r') as f:\n",
    "    csv_string = f.read()"
   ]
  },
  {
   "cell_type": "code",
   "execution_count": 10,
   "id": "74611199-90d6-4ff6-bbf3-6a47491be523",
   "metadata": {},
   "outputs": [
    {
     "data": {
      "text/plain": [
       "'s,p,o\\nhttps://gryps.io/KnowledgeGraph.owl#DataProperty/hasCurrency,http://www.w3.org/1999/02/22-rdf-syntax-ns#type,http://www.w3.org/2002/07/owl#DatatypeProperty\\nhttps://gryps.io/KnowledgeGraph.owl#DataProperty/hasCurrency,http://www.w3.org/2000/01/rdf-schema#comment,\"Refers to the currency type that is used in a project or any transactional entities sich as budget, commitment, etc.\\nExample: A project has a currency of USD.\"\\nhttps://gryps.io/KnowledgeGraph.owl#DataProperty/hasCurrency,http://www.w3.org/2000/01/rdf-schema#label,Currency\\nhttps://gryps.io/KnowledgeGraph.owl#DataProperty/hasCurrency,https://gryps.io/KnowledgeGraph.owl#AnnotationProperty/displayType,string\\nhttps://gryps.io/KnowledgeGraph.owl#DataProperty/hasCurrency,https://gryps.io/KnowledgeGraph.owl#AnnotationProperty/displaySize,3\\nhttps://gryps.io/KnowledgeGraph.owl#DataProperty/hasCurrency,https://gryps.io/KnowledgeGraph.owl#AnnotationProperty/filterCategory,Financial Information\\nhttps://gryps.io/KnowledgeGraph.owl#DataProperty/isDeliveredOn,http://www.w3.org/1999/02/22-rdf-syntax-ns#type,http://www.w3.org/2002/07/owl#DatatypeProperty\\nhttps://gryps.io/KnowledgeGraph.owl#DataProperty/isDeliveredOn,http://www.w3.org/2000/01/rdf-schema#comment,\"The delivering date of the entity (e.g., submittal).\\nExample: A submittal is delivered on 2010-07-08T00:00:00.000Z\"\\nhttps://gryps.io/KnowledgeGraph.owl#DataProperty/isDeliveredOn,http://www.w3.org/2000/01/rdf-schema#range,http://www.w3.org/2001/XMLSchema#dateTime\\nhttps://gryps.io/KnowledgeGraph.owl#DataProperty/isDeliveredOn,http://www.w3.org/2000/01/rdf-schema#label,Delivered On\\nhttps://gryps.io/KnowledgeGraph.owl#DataProperty/isDeliveredOn,https://gryps.io/KnowledgeGraph.owl#AnnotationProperty/displayType,date\\nhttps://gryps.io/KnowledgeGraph.owl#DataProperty/isDeliveredOn,https://gryps.io/KnowledgeGraph.owl#AnnotationProperty/displaySize,3\\nhttps://gryps.io/KnowledgeGraph.owl#DataProperty/isDeliveredOn,https://gryps.io/KnowledgeGraph.owl#AnnotationProperty/filterCategory,Dates and Times\\nhttps://gryps.io/KnowledgeGraph.owl#Individual/File/DOB_BIS/CO%20099247,http://www.w3.org/1999/02/22-rdf-syntax-ns#type,https://gryps.io/KnowledgeGraph.owl#Class/File\\nhttps://gryps.io/KnowledgeGraph.owl#Individual/File/DOB_BIS/CO%20099247,https://gryps.io/KnowledgeGraph.owl#DataProperty/hasName,M00099247C.PDF\\nhttps://gryps.io/KnowledgeGraph.owl#Individual/File/DOB_BIS/CO%20099247,https://gryps.io/KnowledgeGraph.owl#DataProperty/hasSourceSystem,DOB BIS\\nhttps://gryps.io/KnowledgeGraph.owl#Individual/File/DOB_BIS/CO%20099247,https://gryps.io/KnowledgeGraph.owl#ObjectProperty/isAssociatedWith,https://gryps.io/KnowledgeGraph.owl#Individual/Building/DOB_BIS/1023449\\nhttps://gryps.io/KnowledgeGraph.owl#Individual/File/DOB_BIS/CO%20099247,https://gryps.io/KnowledgeGraph.owl#DataProperty/hasID,CO 099247\\nhttps://gryps.io/KnowledgeGraph.owl#Individual/File/DOB_BIS/CO%20099247,https://gryps.io/KnowledgeGraph.owl#DataProperty/hasGrypsUpdatedAt,2025-01-23T18:10:12.244Z\\nhttps://gryps.io/KnowledgeGraph.owl#Individual/File/DOB_BIS/CO%20099247,https://gryps.io/KnowledgeGraph.owl#DataProperty/hasGrypsLink,https://demo.gryps.io/#/documents?key=dob_bis/25fb238d677abc4c8fffa08adaf00d9b.pdf\\n'"
      ]
     },
     "execution_count": 10,
     "metadata": {},
     "output_type": "execute_result"
    }
   ],
   "source": [
    "csv_string.brea"
   ]
  },
  {
   "cell_type": "code",
   "execution_count": 12,
   "id": "847c44f1-2605-4a63-9fc1-ae141685b68d",
   "metadata": {},
   "outputs": [
    {
     "name": "stdout",
     "output_type": "stream",
     "text": [
      "The display type of the hasCurrency property is \"string\".\n"
     ]
    }
   ],
   "source": [
    "client = OpenAI()\n",
    "\n",
    "completion = client.chat.completions.create(\n",
    "    model=\"gpt-4o\",\n",
    "    messages=[\n",
    "        {\"role\": \"developer\", \"content\": f\"this is RDF data: {csv_string}\"},\n",
    "        {\n",
    "            \"role\": \"user\",\n",
    "            \"content\": \"What is the display type of the hasCurrency property?\"\n",
    "        }\n",
    "    ]\n",
    ")\n",
    "\n",
    "print(completion.choices[0].message.content)"
   ]
  },
  {
   "cell_type": "code",
   "execution_count": null,
   "id": "362388ee-65f5-4ad8-9c62-bf3a59279de3",
   "metadata": {},
   "outputs": [],
   "source": []
  }
 ],
 "metadata": {
  "kernelspec": {
   "display_name": "Python 3 (ipykernel)",
   "language": "python",
   "name": "python3"
  },
  "language_info": {
   "codemirror_mode": {
    "name": "ipython",
    "version": 3
   },
   "file_extension": ".py",
   "mimetype": "text/x-python",
   "name": "python",
   "nbconvert_exporter": "python",
   "pygments_lexer": "ipython3",
   "version": "3.10.14"
  }
 },
 "nbformat": 4,
 "nbformat_minor": 5
}
