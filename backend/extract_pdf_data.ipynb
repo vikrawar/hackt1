{
 "cells": [
  {
   "cell_type": "code",
   "execution_count": 10,
   "id": "a6482aef-542e-477d-b8db-d8f6c074f0fe",
   "metadata": {},
   "outputs": [],
   "source": [
    "from openai import OpenAI\n",
    "\n",
    "client = OpenAI(api_key=OPENAI_API_KEY)"
   ]
  },
  {
   "cell_type": "code",
   "execution_count": 11,
   "id": "e62dacb9-0304-4e7d-8b47-4b355dc01b54",
   "metadata": {},
   "outputs": [],
   "source": [
    "import base64\n",
    "def encode_image(image_path):\n",
    "    with open(image_path, \"rb\") as image_file:\n",
    "        return base64.b64encode(image_file.read()).decode(\"utf-8\")"
   ]
  },
  {
   "cell_type": "code",
   "execution_count": 13,
   "id": "136e73c2-8ce3-41b7-8727-977a19dfdf90",
   "metadata": {},
   "outputs": [],
   "source": [
    "# Path to your image\n",
    "image_path = \"sample.jpg\"\n",
    "\n",
    "# Getting the Base64 string\n",
    "base64_image = encode_image(image_path)"
   ]
  },
  {
   "cell_type": "code",
   "execution_count": 17,
   "id": "92c7edd8-db38-4be8-b74c-97bae85d5083",
   "metadata": {},
   "outputs": [
    {
     "name": "stdout",
     "output_type": "stream",
     "text": [
      "Choice(finish_reason='stop', index=0, logprobs=None, message=ChatCompletionMessage(content='The image appears to be a screenshot of a timeline for an \"Art Meets AI Fellowship\" project. It outlines important dates and tasks, including:\\n\\n- **January 25th**: Discussion on the non-profit and student selection process.\\n- **February 29th**: Building partnerships with the non-profit, collecting data, and meetings with students.\\n- **April 15th**: Development of AI-generated artworks.\\n- **June 15th**: Designing a physical exhibition and brainstorming logistics.\\n- **August 15th**: Launching the web application demo.\\n- **September 15th**: Collecting feedback, evaluating impact, and launching the app\\'s first version.\\n- **October 15th**: Extra time to check existing issues and explore future opportunities with stories from other non-profits.\\n\\nThe image includes additional elements like an RSVP invitation and meeting notes.', refusal=None, role='assistant', audio=None, function_call=None, tool_calls=None))\n"
     ]
    }
   ],
   "source": [
    "response = client.chat.completions.create(\n",
    "    model=\"gpt-4o-mini\",\n",
    "    messages=[\n",
    "        {\n",
    "            \"role\": \"user\",\n",
    "            \"content\": [\n",
    "                {\"type\": \"text\", \"text\": \"What's in this image?\"},\n",
    "                {\n",
    "                    \"type\": \"image_url\",\n",
    "                    \"image_url\": {\n",
    "                        \"url\": f\"data:image/jpeg;base64,{base64_image}\",\n",
    "                    },\n",
    "                },\n",
    "            ],\n",
    "        }\n",
    "    ],\n",
    "    max_tokens=300,\n",
    ")\n",
    "\n",
    "print(response.choices[0])"
   ]
  },
  {
   "cell_type": "code",
   "execution_count": 21,
   "id": "f124206e-182f-4962-ac72-7392e98e3fe0",
   "metadata": {},
   "outputs": [
    {
     "name": "stdout",
     "output_type": "stream",
     "text": [
      "The image appears to be a screenshot of a timeline for an \"Art Meets AI Fellowship\" project. It outlines important dates and tasks, including:\n",
      "\n",
      "- **January 25th**: Discussion on the non-profit and student selection process.\n",
      "- **February 29th**: Building partnerships with the non-profit, collecting data, and meetings with students.\n",
      "- **April 15th**: Development of AI-generated artworks.\n",
      "- **June 15th**: Designing a physical exhibition and brainstorming logistics.\n",
      "- **August 15th**: Launching the web application demo.\n",
      "- **September 15th**: Collecting feedback, evaluating impact, and launching the app's first version.\n",
      "- **October 15th**: Extra time to check existing issues and explore future opportunities with stories from other non-profits.\n",
      "\n",
      "The image includes additional elements like an RSVP invitation and meeting notes.\n"
     ]
    }
   ],
   "source": [
    "print(response.choices[0].message.content)"
   ]
  },
  {
   "cell_type": "code",
   "execution_count": null,
   "id": "4442e9e4-188e-4e01-9b25-65bd7f95f51e",
   "metadata": {},
   "outputs": [],
   "source": []
  }
 ],
 "metadata": {
  "kernelspec": {
   "display_name": "Python 3 (ipykernel)",
   "language": "python",
   "name": "python3"
  },
  "language_info": {
   "codemirror_mode": {
    "name": "ipython",
    "version": 3
   },
   "file_extension": ".py",
   "mimetype": "text/x-python",
   "name": "python",
   "nbconvert_exporter": "python",
   "pygments_lexer": "ipython3",
   "version": "3.10.14"
  }
 },
 "nbformat": 4,
 "nbformat_minor": 5
}
