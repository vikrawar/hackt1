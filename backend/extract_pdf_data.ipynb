{
 "cells": [
  {
   "cell_type": "code",
   "execution_count": 35,
   "id": "a6482aef-542e-477d-b8db-d8f6c074f0fe",
   "metadata": {},
   "outputs": [],
   "source": [
    "from openai import OpenAI\n",
    "\n",
    "client = OpenAI(api_key=OPENAI_API_KEY)"
   ]
  },
  {
   "cell_type": "code",
   "execution_count": 36,
   "id": "466f695a-0443-4092-b9f3-5fb885b7c68e",
   "metadata": {},
   "outputs": [],
   "source": [
    "from pdf2image import convert_from_path\n",
    "\n",
    "pages = convert_from_path('vikas.rawat.pdf', 300)  # 300 DPI for better quality\n",
    "for i, page in enumerate(pages):\n",
    "    page.save(f'output_{i+1}.jpg', 'JPEG')\n"
   ]
  },
  {
   "cell_type": "code",
   "execution_count": 37,
   "id": "e62dacb9-0304-4e7d-8b47-4b355dc01b54",
   "metadata": {},
   "outputs": [],
   "source": [
    "import base64\n",
    "def encode_image(image_path):\n",
    "    with open(image_path, \"rb\") as image_file:\n",
    "        return base64.b64encode(image_file.read()).decode(\"utf-8\")"
   ]
  },
  {
   "cell_type": "code",
   "execution_count": 38,
   "id": "136e73c2-8ce3-41b7-8727-977a19dfdf90",
   "metadata": {},
   "outputs": [],
   "source": [
    "# Path to your image\n",
    "image_path = \"output_1.jpg\"\n",
    "\n",
    "# Getting the Base64 string\n",
    "base64_image = encode_image(image_path)"
   ]
  },
  {
   "cell_type": "code",
   "execution_count": 39,
   "id": "92c7edd8-db38-4be8-b74c-97bae85d5083",
   "metadata": {},
   "outputs": [
    {
     "name": "stdout",
     "output_type": "stream",
     "text": [
      "Choice(finish_reason='stop', index=0, logprobs=None, message=ChatCompletionMessage(content=\"The image appears to be a resume for an aspiring data scientist named Vikas Rawat. It outlines his education, technical skills, certifications, and relevant work experience, along with projects he has completed.\\n\\nKey sections include:\\n\\n- **Education**: Listing a Master's in Data Science from Pace University and a Bachelor's in Psychology.\\n- **Technical Skills**: Proficiency in programming languages (Python, C++, SQL), various libraries for data analysis and machine learning, and database management.\\n- **Experience**: A current role in data analysis, focusing on data cleaning, visualization, and collaboration for improving student engagement.\\n- **Projects**: Descriptions of projects related to fraud detection, recommendation systems, anomaly detection, and stock price prediction, detailing specific techniques and tools used.\\n\\nThe resume showcases a strong background in data science and analytics, emphasizing both technical skills and practical application through projects.\", refusal=None, role='assistant', audio=None, function_call=None, tool_calls=None))\n"
     ]
    }
   ],
   "source": [
    "response = client.chat.completions.create(\n",
    "    model=\"gpt-4o-mini\",\n",
    "    messages=[\n",
    "        {\n",
    "            \"role\": \"user\",\n",
    "            \"content\": [\n",
    "                {\"type\": \"text\", \"text\": \"What's in this image?\"},\n",
    "                {\n",
    "                    \"type\": \"image_url\",\n",
    "                    \"image_url\": {\n",
    "                        \"url\": f\"data:image/jpeg;base64,{base64_image}\",\n",
    "                    },\n",
    "                },\n",
    "            ],\n",
    "        }\n",
    "    ],\n",
    "    max_tokens=300,\n",
    ")\n",
    "\n",
    "print(response.choices[0])"
   ]
  },
  {
   "cell_type": "code",
   "execution_count": 34,
   "id": "f124206e-182f-4962-ac72-7392e98e3fe0",
   "metadata": {},
   "outputs": [
    {
     "name": "stdout",
     "output_type": "stream",
     "text": [
      "The image appears to be a resume for an individual named Vikas Rawat, aspiring data scientist. It includes sections on education, technical skills, certifications, experience, and projects.\n",
      "\n",
      "### Key Highlights:\n",
      "\n",
      "- **Education:**\n",
      "  - Master of Science in Data Science from Pace University, with a GPA of 3.96, expected graduation in May 2025.\n",
      "  - Bachelor of Arts in Psychology from Indira Gandhi National Open University, graduated June 2023.\n",
      "\n",
      "- **Technical Skills:**\n",
      "  - Programming in Python, C, C++, SQL, database management.\n",
      "  - Proficiency in machine learning algorithms and various libraries such as Pandas, NumPy, and more.\n",
      "\n",
      "- **Experience:**\n",
      "  - Data Intern at a company called Experience and Beyond, focusing on data preprocessing and visualization.\n",
      "\n",
      "- **Projects:**\n",
      "  - Developed a fraud detection system using Flask.\n",
      "  - Built a recommendation system using machine learning algorithms.\n",
      "  - Conducted anomaly detection and stock price prediction projects.\n",
      "\n",
      "The resume is well-structured, highlighting relevant skills and accomplishments for a career in data science.\n"
     ]
    }
   ],
   "source": [
    "print(response.choices[0].message.content)"
   ]
  },
  {
   "cell_type": "code",
   "execution_count": null,
   "id": "4442e9e4-188e-4e01-9b25-65bd7f95f51e",
   "metadata": {},
   "outputs": [],
   "source": []
  }
 ],
 "metadata": {
  "kernelspec": {
   "display_name": "Python 3 (ipykernel)",
   "language": "python",
   "name": "python3"
  },
  "language_info": {
   "codemirror_mode": {
    "name": "ipython",
    "version": 3
   },
   "file_extension": ".py",
   "mimetype": "text/x-python",
   "name": "python",
   "nbconvert_exporter": "python",
   "pygments_lexer": "ipython3",
   "version": "3.10.14"
  }
 },
 "nbformat": 4,
 "nbformat_minor": 5
}
